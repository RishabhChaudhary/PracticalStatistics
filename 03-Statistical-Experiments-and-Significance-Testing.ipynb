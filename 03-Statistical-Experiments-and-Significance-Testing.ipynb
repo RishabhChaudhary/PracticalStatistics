{
 "cells": [
  {
   "cell_type": "markdown",
   "metadata": {},
   "source": [
    "# <div class=\"alert alert-info\" style=\"text-align: center;\" markdown=\"1\">Statistical Experiments and Significance Testing</div>"
   ]
  },
  {
   "cell_type": "code",
   "execution_count": 1,
   "metadata": {},
   "outputs": [],
   "source": [
    "import pandas as pd\n",
    "import numpy as np\n",
    "import matplotlib.pyplot as plt\n",
    "import seaborn as sns"
   ]
  },
  {
   "cell_type": "markdown",
   "metadata": {},
   "source": [
    "## `A/B Testing`\n",
    "\n",
    "- A/B testing is a method used to compare the performance of two versions of a web page or app against each other to determine which one performs better.\n",
    "- A/B testing is a form of hypothesis testing, where two hypotheses are compared against each other.\n",
    "- The null hypothesis is that there is no difference between the two versions, while the alternative hypothesis is that there is a difference between the two versions.\n",
    "- The goal of A/B testing is to determine if the difference between the two versions is statistically significant.\n"
   ]
  },
  {
   "cell_type": "markdown",
   "metadata": {},
   "source": [
    "## `Hypothesis Testing`\n",
    "\n",
    "- Hypothesis testing is a method used to determine if there is a significant difference between two groups.\n",
    "- The null hypothesis is the default assumption that there is no difference between the two groups.\n",
    "- The alternative hypothesis is the hypothesis that there is a difference between the two groups.\n",
    "\n",
    "#### One-Way Test\n",
    "\n",
    "- A one-way test is used to determine if there is a significant difference between two groups in one direction.\n",
    "\n",
    "#### Two-Way Test\n",
    "\n",
    "- A two-way test is used to determine if there is a significant difference between two groups in either direction."
   ]
  },
  {
   "cell_type": "markdown",
   "metadata": {},
   "source": [
    "### Resampling\n",
    "\n",
    "- Resampling is a method used to estimate the distribution of a statistic by repeatedly sampling from the data.\n",
    "- Resampling methods include bootstrapping and permutation testing.\n",
    "\n",
    "#### Bootstrapping\n",
    "\n",
    "- Bootstrapping is a method used to estimate the distribution of a statistic by resampling with replacement from the data.\n",
    "- Bootstrapping is used to estimate the standard error of a statistic and to construct confidence intervals.\n",
    "\n",
    "#### Permutation Testing\n",
    "\n",
    "- Permutation testing is a method used to determine if there is a significant difference between two groups by permuting the data and calculating the test statistic.\n",
    "- Permutation testing is used to estimate the p-value of a hypothesis test."
   ]
  },
  {
   "cell_type": "markdown",
   "metadata": {},
   "source": [
    "### Website Sessions Example"
   ]
  },
  {
   "cell_type": "code",
   "execution_count": 2,
   "metadata": {},
   "outputs": [
    {
     "data": {
      "text/html": [
       "<div>\n",
       "<style scoped>\n",
       "    .dataframe tbody tr th:only-of-type {\n",
       "        vertical-align: middle;\n",
       "    }\n",
       "\n",
       "    .dataframe tbody tr th {\n",
       "        vertical-align: top;\n",
       "    }\n",
       "\n",
       "    .dataframe thead th {\n",
       "        text-align: right;\n",
       "    }\n",
       "</style>\n",
       "<table border=\"1\" class=\"dataframe\">\n",
       "  <thead>\n",
       "    <tr style=\"text-align: right;\">\n",
       "      <th></th>\n",
       "      <th>Page</th>\n",
       "      <th>Time</th>\n",
       "    </tr>\n",
       "  </thead>\n",
       "  <tbody>\n",
       "    <tr>\n",
       "      <th>0</th>\n",
       "      <td>Page A</td>\n",
       "      <td>0.21</td>\n",
       "    </tr>\n",
       "    <tr>\n",
       "      <th>1</th>\n",
       "      <td>Page B</td>\n",
       "      <td>2.53</td>\n",
       "    </tr>\n",
       "    <tr>\n",
       "      <th>2</th>\n",
       "      <td>Page A</td>\n",
       "      <td>0.35</td>\n",
       "    </tr>\n",
       "    <tr>\n",
       "      <th>3</th>\n",
       "      <td>Page B</td>\n",
       "      <td>0.71</td>\n",
       "    </tr>\n",
       "    <tr>\n",
       "      <th>4</th>\n",
       "      <td>Page A</td>\n",
       "      <td>0.67</td>\n",
       "    </tr>\n",
       "  </tbody>\n",
       "</table>\n",
       "</div>"
      ],
      "text/plain": [
       "     Page  Time\n",
       "0  Page A  0.21\n",
       "1  Page B  2.53\n",
       "2  Page A  0.35\n",
       "3  Page B  0.71\n",
       "4  Page A  0.67"
      ]
     },
     "execution_count": 2,
     "metadata": {},
     "output_type": "execute_result"
    }
   ],
   "source": [
    "df_website = pd.read_csv('data/web_page_data.csv')\n",
    "df_website.head()"
   ]
  },
  {
   "cell_type": "code",
   "execution_count": 3,
   "metadata": {},
   "outputs": [
    {
     "data": {
      "image/png": "[encoded data removed]",
      "text/plain": [
       "<Figure size 640x480 with 1 Axes>"
      ]
     },
     "metadata": {},
     "output_type": "display_data"
    }
   ],
   "source": [
    "fig, ax = plt.subplots()\n",
    "\n",
    "sns.boxenplot(x='Page', y='Time', data=df_website, ax=ax)\n",
    "plt.show()"
   ]
  },
  {
   "cell_type": "code",
   "execution_count": 4,
   "metadata": {},
   "outputs": [
    {
     "data": {
      "text/plain": [
       "(1.2633333333333332, 1.62)"
      ]
     },
     "execution_count": 4,
     "metadata": {},
     "output_type": "execute_result"
    }
   ],
   "source": [
    "mean_A = df_website[df_website['Page'] == 'Page A']['Time'].mean()\n",
    "mean_B = df_website[df_website['Page'] == 'Page B']['Time'].mean()\n",
    "mean_A, mean_B"
   ]
  },
  {
   "cell_type": "code",
   "execution_count": 5,
   "metadata": {},
   "outputs": [
    {
     "data": {
      "text/plain": [
       "0.3566666666666669"
      ]
     },
     "execution_count": 5,
     "metadata": {},
     "output_type": "execute_result"
    }
   ],
   "source": [
    "mean_B - mean_A"
   ]
  },
  {
   "cell_type": "markdown",
   "metadata": {},
   "source": [
    "❔ Is this difference in the number of sessions between the two versions statistically significant?"
   ]
  },
  {
   "cell_type": "code",
   "execution_count": 6,
   "metadata": {},
   "outputs": [
    {
     "data": {
      "text/plain": [
       "Page A    21\n",
       "Page B    15\n",
       "Name: Page, dtype: int64"
      ]
     },
     "execution_count": 6,
     "metadata": {},
     "output_type": "execute_result"
    }
   ],
   "source": [
    "df_website[\"Page\"].value_counts()"
   ]
  },
  {
   "cell_type": "code",
   "execution_count": 7,
   "metadata": {},
   "outputs": [],
   "source": [
    "def perm_func(x, nA, nB):\n",
    "    n = nA + nB\n",
    "    idx_B = np.random.choice(range(n), nB)\n",
    "    idx_A = np.setdiff1d(range(n), idx_B)\n",
    "    return x.loc[idx_B].mean() - x.loc[idx_A].mean()"
   ]
  },
  {
   "cell_type": "code",
   "execution_count": 8,
   "metadata": {},
   "outputs": [],
   "source": [
    "perm_diffs = [perm_func(df_website['Time'], df_website[df_website[\"Page\"] == \"Page A\"].shape[0], df_website[df_website[\"Page\"] == \"Page B\"].shape[0]) for _ in range(1000)]"
   ]
  },
  {
   "cell_type": "code",
   "execution_count": 9,
   "metadata": {},
   "outputs": [
    {
     "data": {
      "image/png": "[encoded data removed]",
      "text/plain": [
       "<Figure size 640x480 with 1 Axes>"
      ]
     },
     "metadata": {},
     "output_type": "display_data"
    }
   ],
   "source": [
    "fig, ax = plt.subplots()\n",
    "\n",
    "sns.histplot(perm_diffs, ax=ax)\n",
    "ax.vlines([mean_B - mean_A], color='red', ymin=0, ymax=150, lw=2)\n",
    "ax.text(mean_B - mean_A + 0.01, 140, 'Observed\\ndifference', color='red')\n",
    "ax.set_xlabel('Session time difference (in seconds)')\n",
    "ax.set_ylabel('Frequency')\n",
    "plt.show()"
   ]
  },
  {
   "cell_type": "code",
   "execution_count": 10,
   "metadata": {},
   "outputs": [
    {
     "data": {
      "text/plain": [
       "0.135"
      ]
     },
     "execution_count": 10,
     "metadata": {},
     "output_type": "execute_result"
    }
   ],
   "source": [
    "np.mean(perm_diffs > mean_B - mean_A)"
   ]
  },
  {
   "cell_type": "markdown",
   "metadata": {},
   "source": [
    "## `Statistical Significance and P-Values`"
   ]
  },
  {
   "cell_type": "markdown",
   "metadata": {},
   "source": [
    "> Example- Conversion Rate"
   ]
  },
  {
   "cell_type": "code",
   "execution_count": 11,
   "metadata": {},
   "outputs": [
    {
     "name": "stdout",
     "output_type": "stream",
     "text": [
      "Observed difference: 0.0368%\n"
     ]
    }
   ],
   "source": [
    "observed_pct_diff = 100 * (200/23739 - 182/22588)\n",
    "print(f'Observed difference: {observed_pct_diff:.4f}%')"
   ]
  },
  {
   "cell_type": "code",
   "execution_count": 12,
   "metadata": {},
   "outputs": [],
   "source": [
    "conversion = [0] * 45945\n",
    "conversion.extend([1] * 382)\n",
    "conversion = pd.Series(conversion)"
   ]
  },
  {
   "cell_type": "code",
   "execution_count": 13,
   "metadata": {},
   "outputs": [],
   "source": [
    "perm_diff_conv = [100 * perm_func(conversion, 23739, 22588) for _ in range(1000)]"
   ]
  },
  {
   "cell_type": "code",
   "execution_count": 14,
   "metadata": {},
   "outputs": [
    {
     "data": {
      "image/png": "[encoded data removed]",
      "text/plain": [
       "<Figure size 640x480 with 1 Axes>"
      ]
     },
     "metadata": {},
     "output_type": "display_data"
    }
   ],
   "source": [
    "fig, ax = plt.subplots()\n",
    "\n",
    "sns.histplot(perm_diff_conv, ax=ax)\n",
    "ax.vlines([observed_pct_diff], color='red', ymin=0, ymax=150, lw=2)\n",
    "ax.text(observed_pct_diff + 0.01, 140, 'Observed\\ndifference', color='red')\n",
    "ax.set_xlabel('Conversion rate difference (in %)')\n",
    "ax.set_ylabel('Frequency')\n",
    "plt.show()"
   ]
  },
  {
   "cell_type": "markdown",
   "metadata": {},
   "source": [
    "😱 From graph it is hard to measure statistical significance. So we use p-value. "
   ]
  },
  {
   "cell_type": "code",
   "execution_count": 15,
   "metadata": {},
   "outputs": [
    {
     "data": {
      "text/plain": [
       "0.353"
      ]
     },
     "execution_count": 15,
     "metadata": {},
     "output_type": "execute_result"
    }
   ],
   "source": [
    "np.mean([perm_diff > observed_pct_diff for perm_diff in perm_diff_conv])"
   ]
  },
  {
   "cell_type": "markdown",
   "metadata": {},
   "source": [
    "> Without permutation testing, we can find p-value by using scipy.stats.chi2_contingency"
   ]
  },
  {
   "cell_type": "code",
   "execution_count": 16,
   "metadata": {},
   "outputs": [],
   "source": [
    "from scipy import stats\n",
    "\n",
    "\n",
    "conversions = np.array([[200, 23739 - 200], [182, 22588 - 182]])\n",
    "chi2, p, df, _ = stats.chi2_contingency(conversions)"
   ]
  },
  {
   "cell_type": "code",
   "execution_count": 17,
   "metadata": {},
   "outputs": [
    {
     "data": {
      "text/plain": [
       "array([[  200, 23539],\n",
       "       [  182, 22406]])"
      ]
     },
     "execution_count": 17,
     "metadata": {},
     "output_type": "execute_result"
    }
   ],
   "source": [
    "conversions"
   ]
  },
  {
   "cell_type": "code",
   "execution_count": 18,
   "metadata": {},
   "outputs": [
    {
     "name": "stdout",
     "output_type": "stream",
     "text": [
      "Chi-square: 0.1489\n",
      "p-value: 0.3498\n",
      "Degrees of freedom: 1\n"
     ]
    }
   ],
   "source": [
    "print(f'Chi-square: {chi2:.4f}')\n",
    "print(f'p-value: {p/2:.4f}')\n",
    "print(f'Degrees of freedom: {df}')"
   ]
  },
  {
   "cell_type": "markdown",
   "metadata": {},
   "source": [
    "## `T-Test`\n",
    "\n",
    "- A t-test is a method used to determine if there is a significant difference between the means of two groups.\n",
    "\n",
    "#### Formula\n",
    "\n",
    "- t = (x̄1 - x̄2) / √(s1^2/n1 + s2^2/n2)\n",
    "\n",
    "- df = n1 + n2 - 2\n",
    "\n",
    "- p-value = 2 * (1 - t.cdf(abs(t), df))\n",
    "\n",
    "#### Example\n",
    "\n",
    "- x̄1 = 10, s1 = 2, n1 = 100\n",
    "\n",
    "- x̄2 = 12, s2 = 3, n2 = 100\n",
    "\n",
    "- t = (10 - 12) / √(2^2/100 + 3^2/100) = -2 / √(0.04 + 0.09) = -2 / √0.13 = -2 / 0.36 = -5.56\n",
    "\n",
    "- df = 100 + 100 - 2 = 198\n",
    "\n",
    "- p-value = 2 * (1 - t.cdf(abs(-5.56), 198)) = 2 * (1 - t.cdf(5.56, 198)) = 2 * (1 - 0.9999999999999999) = 2 * 0.0 = 0.0\n",
    "\n",
    "#### Conclusion\n",
    "\n",
    "- The p-value is less than 0.05, so we reject the null hypothesis and conclude that there is a significant difference between the means of the two groups.\n"
   ]
  },
  {
   "cell_type": "code",
   "execution_count": 19,
   "metadata": {},
   "outputs": [
    {
     "name": "stdout",
     "output_type": "stream",
     "text": [
      "T-statistic: -1.0983\n",
      "p-value: 0.1408\n"
     ]
    }
   ],
   "source": [
    "from scipy.stats import ttest_ind\n",
    "\n",
    "res = ttest_ind(df_website[df_website['Page'] == 'Page A']['Time'], df_website[df_website['Page'] == 'Page B']['Time'], equal_var=False)\n",
    "\n",
    "print(f'T-statistic: {res.statistic:.4f}')\n",
    "print(f'p-value: {res.pvalue/2:.4f}')"
   ]
  },
  {
   "cell_type": "markdown",
   "metadata": {},
   "source": [
    "## `ANOVA - Analysis of Variance`\n",
    "\n",
    "- ANOVA is a method used to determine if there is a significant difference between the means of three or more groups.\n",
    "\n",
    "\n",
    "#### Algorithm\n",
    "\n",
    "- Combine all the data into a single dataset.\n",
    "- Shuffle and draw samples from the combined dataset to create new datasets for each group.\n",
    "- Calculate the mean of each group.\n",
    "- Calculate the varriance among the means of the groups.\n",
    "- Repeat the process many times to estimate the distribution of the variance.\n",
    "\n"
   ]
  },
  {
   "cell_type": "code",
   "execution_count": 20,
   "metadata": {},
   "outputs": [
    {
     "data": {
      "text/html": [
       "<div>\n",
       "<style scoped>\n",
       "    .dataframe tbody tr th:only-of-type {\n",
       "        vertical-align: middle;\n",
       "    }\n",
       "\n",
       "    .dataframe tbody tr th {\n",
       "        vertical-align: top;\n",
       "    }\n",
       "\n",
       "    .dataframe thead th {\n",
       "        text-align: right;\n",
       "    }\n",
       "</style>\n",
       "<table border=\"1\" class=\"dataframe\">\n",
       "  <thead>\n",
       "    <tr style=\"text-align: right;\">\n",
       "      <th></th>\n",
       "      <th>Page</th>\n",
       "      <th>Time</th>\n",
       "    </tr>\n",
       "  </thead>\n",
       "  <tbody>\n",
       "    <tr>\n",
       "      <th>0</th>\n",
       "      <td>Page 1</td>\n",
       "      <td>164</td>\n",
       "    </tr>\n",
       "    <tr>\n",
       "      <th>1</th>\n",
       "      <td>Page 2</td>\n",
       "      <td>178</td>\n",
       "    </tr>\n",
       "    <tr>\n",
       "      <th>2</th>\n",
       "      <td>Page 3</td>\n",
       "      <td>175</td>\n",
       "    </tr>\n",
       "    <tr>\n",
       "      <th>3</th>\n",
       "      <td>Page 4</td>\n",
       "      <td>155</td>\n",
       "    </tr>\n",
       "    <tr>\n",
       "      <th>4</th>\n",
       "      <td>Page 1</td>\n",
       "      <td>172</td>\n",
       "    </tr>\n",
       "  </tbody>\n",
       "</table>\n",
       "</div>"
      ],
      "text/plain": [
       "     Page  Time\n",
       "0  Page 1   164\n",
       "1  Page 2   178\n",
       "2  Page 3   175\n",
       "3  Page 4   155\n",
       "4  Page 1   172"
      ]
     },
     "execution_count": 20,
     "metadata": {},
     "output_type": "execute_result"
    }
   ],
   "source": [
    "df_4_sessions = pd.read_csv('data/four_sessions.csv')\n",
    "df_4_sessions.head()"
   ]
  },
  {
   "cell_type": "code",
   "execution_count": 21,
   "metadata": {},
   "outputs": [],
   "source": [
    "# df_4_sessions = df_4_sessions.pivot(columns='Page', values='Time').fillna(0)"
   ]
  },
  {
   "cell_type": "code",
   "execution_count": 22,
   "metadata": {},
   "outputs": [],
   "source": [
    "# df_4_sessions.head()"
   ]
  },
  {
   "cell_type": "code",
   "execution_count": 23,
   "metadata": {},
   "outputs": [
    {
     "data": {
      "text/plain": [
       "55.426666666666655"
      ]
     },
     "execution_count": 23,
     "metadata": {},
     "output_type": "execute_result"
    }
   ],
   "source": [
    "observed_var = df_4_sessions.groupby(\"Page\").mean().var()[0]\n",
    "observed_var"
   ]
  },
  {
   "cell_type": "code",
   "execution_count": 24,
   "metadata": {},
   "outputs": [
    {
     "name": "stdout",
     "output_type": "stream",
     "text": [
      "Observed mean:  [172.8 182.6 175.6 164.6]\n",
      "Observed variance:  55.426666666666655\n"
     ]
    }
   ],
   "source": [
    "print(\"Observed mean: \", df_4_sessions.groupby(\"Page\").mean().values.ravel())\n",
    "print(\"Observed variance: \", observed_var)"
   ]
  },
  {
   "cell_type": "code",
   "execution_count": 25,
   "metadata": {},
   "outputs": [],
   "source": [
    "def perm_test(df):\n",
    "    df = df.copy()\n",
    "    df[\"Time\"] = np.random.permutation(df[\"Time\"].values)\n",
    "    return df.groupby(\"Page\").mean().var()[0]"
   ]
  },
  {
   "cell_type": "code",
   "execution_count": 26,
   "metadata": {},
   "outputs": [
    {
     "name": "stdout",
     "output_type": "stream",
     "text": [
      "Pr(Prob): 8.233333333333333%\n"
     ]
    }
   ],
   "source": [
    "perm_var = [perm_test(df_4_sessions) for _ in range(3000)]\n",
    "print(f\"Pr(Prob): {100*np.mean([var > observed_var for var in perm_var])}%\")"
   ]
  },
  {
   "cell_type": "markdown",
   "metadata": {},
   "source": [
    "### F-Statisitc\n",
    "\n",
    "- The F-statistic is a measure of the ratio of the variance between groups to the variance within groups.\n",
    "\n",
    "- The F-statistic is used to determine if there is a significant difference between the means of the groups.\n",
    "\n",
    "- The F-statistic is calculated as the ratio of the variance between groups to the variance within groups.\n",
    "\n",
    "\n",
    "- F = (SSB / (k - 1)) / (SSW / (n - k))\n",
    "\n",
    "- df1 = k - 1\n",
    "\n",
    "- df2 = n - k\n",
    "\n",
    "- p-value = 1 - f.cdf(F, df1, df2)\n"
   ]
  },
  {
   "cell_type": "code",
   "execution_count": 27,
   "metadata": {},
   "outputs": [
    {
     "data": {
      "text/html": [
       "<table class=\"simpletable\">\n",
       "<caption>OLS Regression Results</caption>\n",
       "<tr>\n",
       "  <th>Dep. Variable:</th>          <td>Time</td>       <th>  R-squared:         </th> <td>   0.339</td>\n",
       "</tr>\n",
       "<tr>\n",
       "  <th>Model:</th>                   <td>OLS</td>       <th>  Adj. R-squared:    </th> <td>   0.216</td>\n",
       "</tr>\n",
       "<tr>\n",
       "  <th>Method:</th>             <td>Least Squares</td>  <th>  F-statistic:       </th> <td>   2.740</td>\n",
       "</tr>\n",
       "<tr>\n",
       "  <th>Date:</th>             <td>Fri, 19 Jul 2024</td> <th>  Prob (F-statistic):</th>  <td>0.0776</td> \n",
       "</tr>\n",
       "<tr>\n",
       "  <th>Time:</th>                 <td>22:24:46</td>     <th>  Log-Likelihood:    </th> <td> -72.313</td>\n",
       "</tr>\n",
       "<tr>\n",
       "  <th>No. Observations:</th>      <td>    20</td>      <th>  AIC:               </th> <td>   152.6</td>\n",
       "</tr>\n",
       "<tr>\n",
       "  <th>Df Residuals:</th>          <td>    16</td>      <th>  BIC:               </th> <td>   156.6</td>\n",
       "</tr>\n",
       "<tr>\n",
       "  <th>Df Model:</th>              <td>     3</td>      <th>                     </th>     <td> </td>   \n",
       "</tr>\n",
       "<tr>\n",
       "  <th>Covariance Type:</th>      <td>nonrobust</td>    <th>                     </th>     <td> </td>   \n",
       "</tr>\n",
       "</table>\n",
       "<table class=\"simpletable\">\n",
       "<tr>\n",
       "         <td></td>           <th>coef</th>     <th>std err</th>      <th>t</th>      <th>P>|t|</th>  <th>[0.025</th>    <th>0.975]</th>  \n",
       "</tr>\n",
       "<tr>\n",
       "  <th>Intercept</th>      <td>  172.8000</td> <td>    4.498</td> <td>   38.419</td> <td> 0.000</td> <td>  163.265</td> <td>  182.335</td>\n",
       "</tr>\n",
       "<tr>\n",
       "  <th>Page[T.Page 2]</th> <td>    9.8000</td> <td>    6.361</td> <td>    1.541</td> <td> 0.143</td> <td>   -3.684</td> <td>   23.284</td>\n",
       "</tr>\n",
       "<tr>\n",
       "  <th>Page[T.Page 3]</th> <td>    2.8000</td> <td>    6.361</td> <td>    0.440</td> <td> 0.666</td> <td>  -10.684</td> <td>   16.284</td>\n",
       "</tr>\n",
       "<tr>\n",
       "  <th>Page[T.Page 4]</th> <td>   -8.2000</td> <td>    6.361</td> <td>   -1.289</td> <td> 0.216</td> <td>  -21.684</td> <td>    5.284</td>\n",
       "</tr>\n",
       "</table>\n",
       "<table class=\"simpletable\">\n",
       "<tr>\n",
       "  <th>Omnibus:</th>       <td> 2.928</td> <th>  Durbin-Watson:     </th> <td>   1.827</td>\n",
       "</tr>\n",
       "<tr>\n",
       "  <th>Prob(Omnibus):</th> <td> 0.231</td> <th>  Jarque-Bera (JB):  </th> <td>   1.345</td>\n",
       "</tr>\n",
       "<tr>\n",
       "  <th>Skew:</th>          <td> 0.578</td> <th>  Prob(JB):          </th> <td>   0.510</td>\n",
       "</tr>\n",
       "<tr>\n",
       "  <th>Kurtosis:</th>      <td> 3.529</td> <th>  Cond. No.          </th> <td>    4.79</td>\n",
       "</tr>\n",
       "</table><br/><br/>Notes:<br/>[1] Standard Errors assume that the covariance matrix of the errors is correctly specified."
      ],
      "text/plain": [
       "<class 'statsmodels.iolib.summary.Summary'>\n",
       "\"\"\"\n",
       "                            OLS Regression Results                            \n",
       "==============================================================================\n",
       "Dep. Variable:                   Time   R-squared:                       0.339\n",
       "Model:                            OLS   Adj. R-squared:                  0.216\n",
       "Method:                 Least Squares   F-statistic:                     2.740\n",
       "Date:                Fri, 19 Jul 2024   Prob (F-statistic):             0.0776\n",
       "Time:                        22:24:46   Log-Likelihood:                -72.313\n",
       "No. Observations:                  20   AIC:                             152.6\n",
       "Df Residuals:                      16   BIC:                             156.6\n",
       "Df Model:                           3                                         \n",
       "Covariance Type:            nonrobust                                         \n",
       "==================================================================================\n",
       "                     coef    std err          t      P>|t|      [0.025      0.975]\n",
       "----------------------------------------------------------------------------------\n",
       "Intercept        172.8000      4.498     38.419      0.000     163.265     182.335\n",
       "Page[T.Page 2]     9.8000      6.361      1.541      0.143      -3.684      23.284\n",
       "Page[T.Page 3]     2.8000      6.361      0.440      0.666     -10.684      16.284\n",
       "Page[T.Page 4]    -8.2000      6.361     -1.289      0.216     -21.684       5.284\n",
       "==============================================================================\n",
       "Omnibus:                        2.928   Durbin-Watson:                   1.827\n",
       "Prob(Omnibus):                  0.231   Jarque-Bera (JB):                1.345\n",
       "Skew:                           0.578   Prob(JB):                        0.510\n",
       "Kurtosis:                       3.529   Cond. No.                         4.79\n",
       "==============================================================================\n",
       "\n",
       "Notes:\n",
       "[1] Standard Errors assume that the covariance matrix of the errors is correctly specified.\n",
       "\"\"\""
      ]
     },
     "execution_count": 27,
     "metadata": {},
     "output_type": "execute_result"
    }
   ],
   "source": [
    "\n",
    "\n",
    "import statsmodels.formula.api as smf\n",
    "\n",
    "model = smf.ols('Time ~ Page', data=df_4_sessions).fit()\n",
    "model.summary()\n",
    "\n"
   ]
  },
  {
   "cell_type": "code",
   "execution_count": 28,
   "metadata": {},
   "outputs": [
    {
     "data": {
      "text/html": [
       "<div>\n",
       "<style scoped>\n",
       "    .dataframe tbody tr th:only-of-type {\n",
       "        vertical-align: middle;\n",
       "    }\n",
       "\n",
       "    .dataframe tbody tr th {\n",
       "        vertical-align: top;\n",
       "    }\n",
       "\n",
       "    .dataframe thead th {\n",
       "        text-align: right;\n",
       "    }\n",
       "</style>\n",
       "<table border=\"1\" class=\"dataframe\">\n",
       "  <thead>\n",
       "    <tr style=\"text-align: right;\">\n",
       "      <th></th>\n",
       "      <th>df</th>\n",
       "      <th>sum_sq</th>\n",
       "      <th>mean_sq</th>\n",
       "      <th>F</th>\n",
       "      <th>PR(&gt;F)</th>\n",
       "    </tr>\n",
       "  </thead>\n",
       "  <tbody>\n",
       "    <tr>\n",
       "      <th>Page</th>\n",
       "      <td>3.0</td>\n",
       "      <td>831.4</td>\n",
       "      <td>277.133333</td>\n",
       "      <td>2.739825</td>\n",
       "      <td>0.077586</td>\n",
       "    </tr>\n",
       "    <tr>\n",
       "      <th>Residual</th>\n",
       "      <td>16.0</td>\n",
       "      <td>1618.4</td>\n",
       "      <td>101.150000</td>\n",
       "      <td>NaN</td>\n",
       "      <td>NaN</td>\n",
       "    </tr>\n",
       "  </tbody>\n",
       "</table>\n",
       "</div>"
      ],
      "text/plain": [
       "            df  sum_sq     mean_sq         F    PR(>F)\n",
       "Page       3.0   831.4  277.133333  2.739825  0.077586\n",
       "Residual  16.0  1618.4  101.150000       NaN       NaN"
      ]
     },
     "execution_count": 28,
     "metadata": {},
     "output_type": "execute_result"
    }
   ],
   "source": [
    "import statsmodels.api as sm\n",
    "\n",
    "aov_table = sm.stats.anova_lm(model)\n",
    "aov_table"
   ]
  },
  {
   "cell_type": "markdown",
   "metadata": {},
   "source": [
    "## `Chi-Square Test`\n",
    "\n",
    "- The chi-square test is a method used to determine if there is a significant association between two categorical variables.\n",
    "\n",
    "\n",
    "- χ^2 = Σ((O - E)^2 / E)\n",
    "\n",
    "- df = (r - 1) * (c - 1)\n",
    "\n",
    "- p-value = 1 - chi2.cdf(χ^2, df)"
   ]
  },
  {
   "cell_type": "markdown",
   "metadata": {},
   "source": [
    "### Chi-Square Test: Resampling Approach\n",
    "\n",
    "- The resampling approach to the chi-square test involves permuting the data and calculating the test statistic many times to estimate the p-value.\n",
    "\n",
    "- Constitute a box with 34 ones (clicks) and 2966 zeros (non-clicks).\n",
    "- Shuffle the box and draw samples of 1000 and count the cliks in each.\n",
    "- Find the squared difference between the observed and expected values and sum them.\n",
    "- Repeat the process many times to estimate the distribution of the test statistic.\n",
    "- How often does the resampled test statistic exceed the observed test statistic?"
   ]
  },
  {
   "cell_type": "code",
   "execution_count": 32,
   "metadata": {},
   "outputs": [
    {
     "data": {
      "text/html": [
       "<div>\n",
       "<style scoped>\n",
       "    .dataframe tbody tr th:only-of-type {\n",
       "        vertical-align: middle;\n",
       "    }\n",
       "\n",
       "    .dataframe tbody tr th {\n",
       "        vertical-align: top;\n",
       "    }\n",
       "\n",
       "    .dataframe thead th {\n",
       "        text-align: right;\n",
       "    }\n",
       "</style>\n",
       "<table border=\"1\" class=\"dataframe\">\n",
       "  <thead>\n",
       "    <tr style=\"text-align: right;\">\n",
       "      <th></th>\n",
       "      <th>Headline</th>\n",
       "      <th>Click</th>\n",
       "      <th>Rate</th>\n",
       "    </tr>\n",
       "  </thead>\n",
       "  <tbody>\n",
       "    <tr>\n",
       "      <th>0</th>\n",
       "      <td>Headline A</td>\n",
       "      <td>Click</td>\n",
       "      <td>14</td>\n",
       "    </tr>\n",
       "    <tr>\n",
       "      <th>1</th>\n",
       "      <td>Headline A</td>\n",
       "      <td>No-click</td>\n",
       "      <td>986</td>\n",
       "    </tr>\n",
       "    <tr>\n",
       "      <th>2</th>\n",
       "      <td>Headline B</td>\n",
       "      <td>Click</td>\n",
       "      <td>8</td>\n",
       "    </tr>\n",
       "    <tr>\n",
       "      <th>3</th>\n",
       "      <td>Headline B</td>\n",
       "      <td>No-click</td>\n",
       "      <td>992</td>\n",
       "    </tr>\n",
       "    <tr>\n",
       "      <th>4</th>\n",
       "      <td>Headline C</td>\n",
       "      <td>Click</td>\n",
       "      <td>12</td>\n",
       "    </tr>\n",
       "    <tr>\n",
       "      <th>5</th>\n",
       "      <td>Headline C</td>\n",
       "      <td>No-click</td>\n",
       "      <td>988</td>\n",
       "    </tr>\n",
       "  </tbody>\n",
       "</table>\n",
       "</div>"
      ],
      "text/plain": [
       "     Headline     Click  Rate\n",
       "0  Headline A     Click    14\n",
       "1  Headline A  No-click   986\n",
       "2  Headline B     Click     8\n",
       "3  Headline B  No-click   992\n",
       "4  Headline C     Click    12\n",
       "5  Headline C  No-click   988"
      ]
     },
     "execution_count": 32,
     "metadata": {},
     "output_type": "execute_result"
    }
   ],
   "source": [
    "df_clicks = pd.read_csv(\"data/click_rates.csv\")\n",
    "df_clicks"
   ]
  },
  {
   "cell_type": "code",
   "execution_count": 29,
   "metadata": {},
   "outputs": [],
   "source": [
    "import random\n",
    "\n",
    "\n",
    "box = [1] * 34\n",
    "box.extend([0] * 2966)\n",
    "random.shuffle(box)\n",
    "\n"
   ]
  },
  {
   "cell_type": "code",
   "execution_count": 30,
   "metadata": {},
   "outputs": [],
   "source": [
    "def chi2_test(observerd, expected):\n",
    "    pearson_residuals = []\n",
    "    for row, expect in zip(observerd, expected):\n",
    "            pearson_residuals.append([(obs - expect) ** 2 / expect for obs in row])\n",
    "\n",
    "    return np.sum(pearson_residuals)"
   ]
  },
  {
   "cell_type": "code",
   "execution_count": 43,
   "metadata": {},
   "outputs": [],
   "source": [
    "expected_clicks = 34/3\n",
    "expected_non_clicks = 1000 - expected_clicks\n",
    "expected = [34/3, 1000-34/3]\n",
    "chi2_observed = chi2_test([df_clicks[df_clicks[\"Click\"] == \"Click\"][\"Rate\"].values], expected)"
   ]
  },
  {
   "cell_type": "code",
   "execution_count": 44,
   "metadata": {},
   "outputs": [
    {
     "data": {
      "text/plain": [
       "1.6470588235294115"
      ]
     },
     "execution_count": 44,
     "metadata": {},
     "output_type": "execute_result"
    }
   ],
   "source": [
    "chi2_observed"
   ]
  },
  {
   "cell_type": "code",
   "execution_count": 45,
   "metadata": {},
   "outputs": [],
   "source": [
    "def perm_func(box):\n",
    "    sample_clicks = [sum(random.sample(box,1000)),\n",
    "                     sum(random.sample(box, 1000)),\n",
    "                     sum(random.sample(box, 1000))]\n",
    "    \n",
    "    sample_noclicks = [1000 - n for n in sample_clicks]\n",
    "    return chi2_test([sample_clicks, sample_noclicks], expected)"
   ]
  },
  {
   "cell_type": "code",
   "execution_count": 47,
   "metadata": {},
   "outputs": [],
   "source": [
    "perm_chi2_2 = [perm_func(box) for _ in range(2000)]"
   ]
  },
  {
   "cell_type": "code",
   "execution_count": 48,
   "metadata": {},
   "outputs": [
    {
     "name": "stdout",
     "output_type": "stream",
     "text": [
      "Observed Chi2:  1.6470588235294115\n",
      "Resampled p-value:  0.491\n"
     ]
    }
   ],
   "source": [
    "resampled_p_value = sum(perm_chi2_2 > chi2_observed)/len(perm_chi2_2)\n",
    "print(\"Observed Chi2: \", chi2_observed)\n",
    "print(\"Resampled p-value: \", resampled_p_value)"
   ]
  },
  {
   "cell_type": "markdown",
   "metadata": {},
   "source": [
    "### Chi-Squre Tests: Statistical Theory\n",
    "\n"
   ]
  },
  {
   "cell_type": "code",
   "execution_count": 59,
   "metadata": {},
   "outputs": [],
   "source": [
    "from scipy.stats import chi2_contingency\n",
    "\n",
    "chi2, pvalue, df, expected = chi2_contingency(df_clicks[\"Rate\"])"
   ]
  },
  {
   "cell_type": "code",
   "execution_count": 60,
   "metadata": {},
   "outputs": [
    {
     "data": {
      "text/plain": [
       "(0.0, 1.0, 0, array([ 14., 986.,   8., 992.,  12., 988.]))"
      ]
     },
     "execution_count": 60,
     "metadata": {},
     "output_type": "execute_result"
    }
   ],
   "source": [
    "chi2, pvalue, df, expected"
   ]
  },
  {
   "cell_type": "markdown",
   "metadata": {},
   "source": [
    "### Fisher's Exact Test\n",
    "\n",
    "- All possible permutations possible."
   ]
  },
  {
   "cell_type": "markdown",
   "metadata": {},
   "source": [
    "## `Multi-Arm Bandit Algorithms`\n",
    "\n"
   ]
  },
  {
   "cell_type": "markdown",
   "metadata": {},
   "source": [
    "## `Power and Sample Size`"
   ]
  },
  {
   "cell_type": "code",
   "execution_count": 75,
   "metadata": {},
   "outputs": [],
   "source": [
    "import statsmodels as sm\n",
    "\n",
    "effect_size = sm.stats.proportion.proportion_effectsize(0.0121, 0.011)\n",
    "ananlysis = sm.stats.power.TTestIndPower()\n",
    "result = ananlysis.solve_power(effect_size=effect_size, alpha=0.05, power=0.8, alternative='larger')"
   ]
  },
  {
   "cell_type": "code",
   "execution_count": 76,
   "metadata": {},
   "outputs": [
    {
     "data": {
      "text/plain": [
       "116602.39259746042"
      ]
     },
     "execution_count": 76,
     "metadata": {},
     "output_type": "execute_result"
    }
   ],
   "source": [
    "result"
   ]
  },
  {
   "cell_type": "code",
   "execution_count": null,
   "metadata": {},
   "outputs": [],
   "source": []
  }
 ],
 "metadata": {
  "kernelspec": {
   "display_name": "base",
   "language": "python",
   "name": "python3"
  },
  "language_info": {
   "codemirror_mode": {
    "name": "ipython",
    "version": 3
   },
   "file_extension": ".py",
   "mimetype": "text/x-python",
   "name": "python",
   "nbconvert_exporter": "python",
   "pygments_lexer": "ipython3",
   "version": "3.9.13"
  }
 },
 "nbformat": 4,
 "nbformat_minor": 2
}
