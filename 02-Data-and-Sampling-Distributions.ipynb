{
 "cells": [
  {
   "cell_type": "markdown",
   "metadata": {},
   "source": [
    "# <div class=\"alert alert-info\" style=\"text-align: center;\" markdown=\"1\">Data and Sampling Distributions</div>"
   ]
  },
  {
   "cell_type": "code",
   "execution_count": 1,
   "metadata": {},
   "outputs": [],
   "source": [
    "import pandas as pd\n",
    "import numpy as np\n",
    "import matplotlib.pyplot as plt\n",
    "import seaborn as sns"
   ]
  },
  {
   "cell_type": "markdown",
   "metadata": {},
   "source": [
    "## `Sampling Distributions`\n",
    "\n",
    "- A sampling distribution is a distribution of a statistic obtained through a large number of samples drawn from a specific population."
   ]
  },
  {
   "cell_type": "code",
   "execution_count": 2,
   "metadata": {},
   "outputs": [
    {
     "data": {
      "text/html": [
       "<div>\n",
       "<style scoped>\n",
       "    .dataframe tbody tr th:only-of-type {\n",
       "        vertical-align: middle;\n",
       "    }\n",
       "\n",
       "    .dataframe tbody tr th {\n",
       "        vertical-align: top;\n",
       "    }\n",
       "\n",
       "    .dataframe thead th {\n",
       "        text-align: right;\n",
       "    }\n",
       "</style>\n",
       "<table border=\"1\" class=\"dataframe\">\n",
       "  <thead>\n",
       "    <tr style=\"text-align: right;\">\n",
       "      <th></th>\n",
       "      <th>Unnamed: 0</th>\n",
       "      <th>status</th>\n",
       "      <th>loan_amnt</th>\n",
       "      <th>term</th>\n",
       "      <th>annual_inc</th>\n",
       "      <th>dti</th>\n",
       "      <th>payment_inc_ratio</th>\n",
       "      <th>revol_bal</th>\n",
       "      <th>revol_util</th>\n",
       "      <th>purpose</th>\n",
       "      <th>...</th>\n",
       "      <th>delinq_2yrs_zero</th>\n",
       "      <th>pub_rec_zero</th>\n",
       "      <th>open_acc</th>\n",
       "      <th>grade</th>\n",
       "      <th>outcome</th>\n",
       "      <th>emp_length</th>\n",
       "      <th>purpose_</th>\n",
       "      <th>home_</th>\n",
       "      <th>emp_len_</th>\n",
       "      <th>borrower_score</th>\n",
       "    </tr>\n",
       "  </thead>\n",
       "  <tbody>\n",
       "    <tr>\n",
       "      <th>0</th>\n",
       "      <td>1</td>\n",
       "      <td>Charged Off</td>\n",
       "      <td>2500</td>\n",
       "      <td>60 months</td>\n",
       "      <td>30000</td>\n",
       "      <td>1.00</td>\n",
       "      <td>2.39320</td>\n",
       "      <td>1687</td>\n",
       "      <td>9.4</td>\n",
       "      <td>car</td>\n",
       "      <td>...</td>\n",
       "      <td>1</td>\n",
       "      <td>1</td>\n",
       "      <td>3</td>\n",
       "      <td>4.8</td>\n",
       "      <td>default</td>\n",
       "      <td>1</td>\n",
       "      <td>major_purchase</td>\n",
       "      <td>RENT</td>\n",
       "      <td>&gt; 1 Year</td>\n",
       "      <td>0.65</td>\n",
       "    </tr>\n",
       "    <tr>\n",
       "      <th>1</th>\n",
       "      <td>2</td>\n",
       "      <td>Charged Off</td>\n",
       "      <td>5600</td>\n",
       "      <td>60 months</td>\n",
       "      <td>40000</td>\n",
       "      <td>5.55</td>\n",
       "      <td>4.57170</td>\n",
       "      <td>5210</td>\n",
       "      <td>32.6</td>\n",
       "      <td>small_business</td>\n",
       "      <td>...</td>\n",
       "      <td>1</td>\n",
       "      <td>1</td>\n",
       "      <td>11</td>\n",
       "      <td>1.4</td>\n",
       "      <td>default</td>\n",
       "      <td>5</td>\n",
       "      <td>small_business</td>\n",
       "      <td>OWN</td>\n",
       "      <td>&gt; 1 Year</td>\n",
       "      <td>0.80</td>\n",
       "    </tr>\n",
       "    <tr>\n",
       "      <th>2</th>\n",
       "      <td>3</td>\n",
       "      <td>Charged Off</td>\n",
       "      <td>5375</td>\n",
       "      <td>60 months</td>\n",
       "      <td>15000</td>\n",
       "      <td>18.08</td>\n",
       "      <td>9.71600</td>\n",
       "      <td>9279</td>\n",
       "      <td>36.5</td>\n",
       "      <td>other</td>\n",
       "      <td>...</td>\n",
       "      <td>1</td>\n",
       "      <td>1</td>\n",
       "      <td>2</td>\n",
       "      <td>6.0</td>\n",
       "      <td>default</td>\n",
       "      <td>1</td>\n",
       "      <td>other</td>\n",
       "      <td>RENT</td>\n",
       "      <td>&gt; 1 Year</td>\n",
       "      <td>0.60</td>\n",
       "    </tr>\n",
       "    <tr>\n",
       "      <th>3</th>\n",
       "      <td>4</td>\n",
       "      <td>Charged Off</td>\n",
       "      <td>9000</td>\n",
       "      <td>36 months</td>\n",
       "      <td>30000</td>\n",
       "      <td>10.08</td>\n",
       "      <td>12.21520</td>\n",
       "      <td>10452</td>\n",
       "      <td>91.7</td>\n",
       "      <td>debt_consolidation</td>\n",
       "      <td>...</td>\n",
       "      <td>1</td>\n",
       "      <td>1</td>\n",
       "      <td>4</td>\n",
       "      <td>4.2</td>\n",
       "      <td>default</td>\n",
       "      <td>1</td>\n",
       "      <td>debt_consolidation</td>\n",
       "      <td>RENT</td>\n",
       "      <td>&gt; 1 Year</td>\n",
       "      <td>0.50</td>\n",
       "    </tr>\n",
       "    <tr>\n",
       "      <th>4</th>\n",
       "      <td>5</td>\n",
       "      <td>Charged Off</td>\n",
       "      <td>10000</td>\n",
       "      <td>36 months</td>\n",
       "      <td>100000</td>\n",
       "      <td>7.06</td>\n",
       "      <td>3.90888</td>\n",
       "      <td>11997</td>\n",
       "      <td>55.5</td>\n",
       "      <td>other</td>\n",
       "      <td>...</td>\n",
       "      <td>1</td>\n",
       "      <td>1</td>\n",
       "      <td>14</td>\n",
       "      <td>5.4</td>\n",
       "      <td>default</td>\n",
       "      <td>4</td>\n",
       "      <td>other</td>\n",
       "      <td>RENT</td>\n",
       "      <td>&gt; 1 Year</td>\n",
       "      <td>0.55</td>\n",
       "    </tr>\n",
       "  </tbody>\n",
       "</table>\n",
       "<p>5 rows × 21 columns</p>\n",
       "</div>"
      ],
      "text/plain": [
       "   Unnamed: 0       status  loan_amnt       term  annual_inc    dti  \\\n",
       "0           1  Charged Off       2500  60 months       30000   1.00   \n",
       "1           2  Charged Off       5600  60 months       40000   5.55   \n",
       "2           3  Charged Off       5375  60 months       15000  18.08   \n",
       "3           4  Charged Off       9000  36 months       30000  10.08   \n",
       "4           5  Charged Off      10000  36 months      100000   7.06   \n",
       "\n",
       "   payment_inc_ratio  revol_bal  revol_util             purpose  ...  \\\n",
       "0            2.39320       1687         9.4                 car  ...   \n",
       "1            4.57170       5210        32.6      small_business  ...   \n",
       "2            9.71600       9279        36.5               other  ...   \n",
       "3           12.21520      10452        91.7  debt_consolidation  ...   \n",
       "4            3.90888      11997        55.5               other  ...   \n",
       "\n",
       "  delinq_2yrs_zero  pub_rec_zero  open_acc  grade  outcome emp_length  \\\n",
       "0                1             1         3    4.8  default          1   \n",
       "1                1             1        11    1.4  default          5   \n",
       "2                1             1         2    6.0  default          1   \n",
       "3                1             1         4    4.2  default          1   \n",
       "4                1             1        14    5.4  default          4   \n",
       "\n",
       "             purpose_ home_   emp_len_ borrower_score  \n",
       "0      major_purchase  RENT   > 1 Year           0.65  \n",
       "1      small_business   OWN   > 1 Year           0.80  \n",
       "2               other  RENT   > 1 Year           0.60  \n",
       "3  debt_consolidation  RENT   > 1 Year           0.50  \n",
       "4               other  RENT   > 1 Year           0.55  \n",
       "\n",
       "[5 rows x 21 columns]"
      ]
     },
     "execution_count": 2,
     "metadata": {},
     "output_type": "execute_result"
    }
   ],
   "source": [
    "df_loan = pd.read_csv(\"data/loan_data.csv.gz\")\n",
    "df_loan.head()"
   ]
  },
  {
   "cell_type": "code",
   "execution_count": 12,
   "metadata": {},
   "outputs": [],
   "source": [
    "sample_1000 = pd.DataFrame({\n",
    "    'income': df_loan[\"annual_inc\"].sample(1000),\n",
    "    'type': 'Data',\n",
    "})\n",
    "sample_05 = pd.DataFrame({\n",
    "    'income': [df_loan[\"annual_inc\"].sample(5).mean() for _ in range(1000)],\n",
    "    'type': 'Sample 5',\n",
    "})\n",
    "sample_20 = pd.DataFrame({\n",
    "    'income': [df_loan[\"annual_inc\"].sample(20).mean() for _ in range(1000)],\n",
    "    'type': 'Sample 20',\n",
    "})\n",
    "\n",
    "sample = pd.concat([sample_1000, sample_05, sample_20])"
   ]
  },
  {
   "cell_type": "code",
   "execution_count": 16,
   "metadata": {},
   "outputs": [
    {
     "data": {
      "text/plain": [
       "Data         1000\n",
       "Sample 5     1000\n",
       "Sample 20    1000\n",
       "Name: type, dtype: int64"
      ]
     },
     "execution_count": 16,
     "metadata": {},
     "output_type": "execute_result"
    }
   ],
   "source": [
    "sample.type.value_counts()"
   ]
  },
  {
   "cell_type": "code",
   "execution_count": 31,
   "metadata": {},
   "outputs": [
    {
     "data": {
      "image/png": "[encoded data removed]",
      "text/plain": [
       "<Figure size 600x900 with 3 Axes>"
      ]
     },
     "metadata": {},
     "output_type": "display_data"
    }
   ],
   "source": [
    "sns.FacetGrid(sample, col='type', col_wrap=1, aspect=2).map(sns.histplot, 'income', bins=40).set_titles('{col_name}').set_axis_labels('Income', 'Count')\n",
    "plt.show()"
   ]
  },
  {
   "cell_type": "markdown",
   "metadata": {},
   "source": [
    "### Central Limit Theorem\n",
    "\n",
    "- The Central Limit Theorem states that the sampling distribution of the sample mean is approximately normally distributed, regardless of the shape of the population distribution. - Provided that the sample size is sufficiently large."
   ]
  },
  {
   "cell_type": "markdown",
   "metadata": {},
   "source": [
    "### Standard Error\n",
    "\n",
    "- The standard error is the standard deviation of the sampling distribution of a statistic. It is a measure of the variability of the sample statistic.\n",
    "\n",
    "$$SE = \\frac{s}{\\sqrt{n}}$$\n",
    "\n",
    "Where:\n",
    "\n",
    "- $s$ = Standard deviation of the population\n",
    "- $n$ = sample size\n"
   ]
  },
  {
   "cell_type": "markdown",
   "metadata": {},
   "source": [
    "## `The Bootstrap`\n",
    "\n",
    "- The bootstrap is a resampling technique used to estimate statistics on a population by sampling with replacement.\n",
    "\n",
    "Algorithm:\n",
    "\n",
    "1. Draw a sample of size n with replacement from the original sample.\n",
    "2. Calculate the statistic of interest.\n",
    "3. Repeat steps 1 and 2 a large number of times.\n",
    "4. Calculate the standard deviation of the bootstrapped statistics.\n",
    "5. Produce a histogram or boxplot of the bootstrapped statistics.\n",
    "6. Calculate the confidence interval."
   ]
  },
  {
   "cell_type": "code",
   "execution_count": 34,
   "metadata": {},
   "outputs": [
    {
     "name": "stdout",
     "output_type": "stream",
     "text": [
      "Bootstrao Statistics:\n",
      "Original: 60000.0\n",
      "bias: -275.1924999999974\n",
      "std. error: 403.8757424122656\n"
     ]
    }
   ],
   "source": [
    "from sklearn.utils import resample\n",
    "\n",
    "results = []\n",
    "\n",
    "for _ in range(1000):\n",
    "    sample = resample(df_loan[\"annual_inc\"])\n",
    "    results.append(sample.median())\n",
    "\n",
    "results = pd.Series(results)\n",
    "\n",
    "print(\"Bootstrao Statistics:\")\n",
    "print(f\"Original: {df_loan['annual_inc'].median()}\")\n",
    "print(f\"bias: {results.mean() - df_loan['annual_inc'].median()}\")\n",
    "print(f\"std. error: {results.std()}\")"
   ]
  },
  {
   "cell_type": "markdown",
   "metadata": {},
   "source": [
    "## `Confidence Intervals`\n",
    "\n",
    "- A confidence interval is a range of values that is likely to contain the true value of an unknown population parameter.\n",
    "\n",
    "Algorithm:\n",
    "\n",
    "1. Draw random samples of size n with replacement from the original data.\n",
    "2. Calculate the statistic of interest.\n",
    "3. Repeat steps 1 and 2 a large number of times.\n",
    "4. For an x% confidence interval, trim [(100-x)/2]% from resampled results from any side of the distribution.\n",
    "5. The trimmed values are the lower and upper bounds of the confidence interval.\n"
   ]
  },
  {
   "cell_type": "markdown",
   "metadata": {},
   "source": [
    "## `Normal Distribution`\n",
    "\n",
    "- A normal distribution is a continuous probability distribution that is symmetric about the mean.\n",
    "\n",
    "### Properties of Normal Distribution\n",
    "\n",
    "- In normal distribution, 68% of the data falls within 1 standard deviation of the mean, 95% falls within 2 standard deviations, and 99.7% falls within 3 standard deviations.\n",
    "\n",
    "\n",
    "### Standard Normal Distribution\n",
    "\n",
    "- A standard normal distribution is a normal distribution with a mean of 0 and a standard deviation of 1.\n",
    "\n",
    "### Z-Score\n",
    "\n",
    "- The Z-score is the number of standard deviations a data point is from the mean.\n",
    "\n",
    "$Z = \\frac{x - \\mu}{\\sigma}$\n",
    "\n",
    "Where:\n",
    "\n",
    "- $x$ = data point\n",
    "- $\\mu$ = mean\n",
    "- $\\sigma$ = standard deviation\n",
    "\n"
   ]
  },
  {
   "cell_type": "markdown",
   "metadata": {},
   "source": [
    "### Standard Normal and QQ Plots"
   ]
  },
  {
   "cell_type": "code",
   "execution_count": 37,
   "metadata": {},
   "outputs": [
    {
     "data": {
      "image/png": "[encoded data removed]",
      "text/plain": [
       "<Figure size 640x480 with 1 Axes>"
      ]
     },
     "metadata": {},
     "output_type": "display_data"
    }
   ],
   "source": [
    "from scipy.stats import norm, probplot\n",
    "\n",
    "fig, ax = plt.subplots()\n",
    "\n",
    "norm_sample = norm.rvs(size=100)\n",
    "probplot(norm_sample, plot=ax) \n",
    "plt.ylabel(\"Z-Scores\")\n",
    "plt.show()"
   ]
  },
  {
   "cell_type": "markdown",
   "metadata": {},
   "source": [
    "### Long-Tailed Distributions\n",
    "\n",
    "- A long-tailed distribution is a distribution with a tail that extends further than a normal distribution.\n",
    "\n",
    "### Skewness\n",
    "\n",
    "- Skewness is a measure of the asymmetry of a distribution."
   ]
  },
  {
   "cell_type": "code",
   "execution_count": 38,
   "metadata": {},
   "outputs": [],
   "source": [
    "sp500_px = pd.read_csv(\"data/sp500_data.csv.gz\", index_col=0)\n",
    "nflx = sp500_px[\"NFLX\"]"
   ]
  },
  {
   "cell_type": "code",
   "execution_count": 39,
   "metadata": {},
   "outputs": [
    {
     "data": {
      "image/png": "[encoded data removed]",
      "text/plain": [
       "<Figure size 640x480 with 1 Axes>"
      ]
     },
     "metadata": {},
     "output_type": "display_data"
    }
   ],
   "source": [
    "nflx = np.diff(np.log(nflx[nflx>0]))\n",
    "\n",
    "fig, ax = plt.subplots()\n",
    "probplot(nflx, plot=ax)\n",
    "plt.show()"
   ]
  },
  {
   "cell_type": "markdown",
   "metadata": {},
   "source": [
    "- The points are far below for the left-skewed distribution and far above for the right-skewed distribution."
   ]
  },
  {
   "cell_type": "markdown",
   "metadata": {},
   "source": [
    "#### Long-Tailed Distributions with KDE Plots"
   ]
  },
  {
   "cell_type": "code",
   "execution_count": 41,
   "metadata": {},
   "outputs": [
    {
     "data": {
      "image/png": "[encoded data removed]",
      "text/plain": [
       "<Figure size 640x480 with 1 Axes>"
      ]
     },
     "metadata": {},
     "output_type": "display_data"
    }
   ],
   "source": [
    "sns.kdeplot(data=nflx)\n",
    "plt.show()"
   ]
  },
  {
   "cell_type": "markdown",
   "metadata": {},
   "source": [
    "## `Student's t-Distribution`\n",
    "\n",
    "- The t-distribution is a continuous probability distribution that is symmetric and bell-shaped, like the normal distribution, but has heavier tails.\n",
    "\n",
    "#### Degrees of Freedom\n",
    "\n",
    "- A parameter that allows the t-distribution to adjust to different sample sizes.\n",
    "\n",
    "$t = \\frac{\\bar{x} - \\mu}{\\frac{s}{\\sqrt{n}}}$\n",
    "\n",
    "Where:\n",
    "\n",
    "- $\\bar{x}$ = sample mean\n",
    "- $\\mu$ = population mean\n",
    "- $s$ = sample standard deviation\n",
    "- $n$ = sample size\n",
    "\n",
    "\n",
    "- A 90% confidence interval around sample mean is given by:\n",
    "\n",
    "$\\bar{x} \\pm t_{n-1} \\times (0.05) \\times \\frac{s}{\\sqrt{n}}$\n",
    "\n",
    "Where:\n",
    "\n",
    "- $t_{n-1}(0.05)$ is the value of t-statistic with degrees of freedom n-1, which chops off 5% from each tail of the distribution."
   ]
  },
  {
   "cell_type": "markdown",
   "metadata": {},
   "source": [
    "## `Binoial Distribution`\n",
    "\n",
    "- The binomial distribution is a discrete probability distribution that describes the number of successes in a fixed number of Bernoulli trials.\n",
    "\n",
    "Formula:\n",
    "\n",
    "$P(X = k) = \\binom{n}{k} \\times p^k \\times (1-p)^{n-k}$\n",
    "\n",
    "Where:\n",
    "\n",
    "- $n$ = number of trials\n",
    "- $k$ = number of successes\n",
    "- $p$ = probability of success\n"
   ]
  },
  {
   "cell_type": "code",
   "execution_count": 7,
   "metadata": {},
   "outputs": [
    {
     "data": {
      "text/plain": [
       "(0.07178753716621049, 0.017587946605721567)"
      ]
     },
     "execution_count": 7,
     "metadata": {},
     "output_type": "execute_result"
    }
   ],
   "source": [
    "from scipy import stats\n",
    "\n",
    "stats.binom.pmf(1, n=200, p=0.02), stats.binom.cdf(0, n=200, p=0.02)"
   ]
  },
  {
   "cell_type": "markdown",
   "metadata": {},
   "source": [
    "## `Chi-Square Distribution`\n",
    "\n",
    "- The statistic that measures the extent to which observed counts deviate from expected counts.\n",
    "\n",
    "Formula:\n",
    "\n",
    "$\\chi^2 = \\sum \\frac{(O - E)^2}{E}$\n",
    "\n",
    "Where:\n",
    "\n",
    "- $O$ = observed frequency\n",
    "- $E$ = expected frequency\n",
    "\n"
   ]
  },
  {
   "cell_type": "markdown",
   "metadata": {},
   "source": [
    "## `F-Distribution`\n",
    "\n",
    "- The F-distribution is a continuous probability distribution that is used in the analysis of variance (ANOVA).\n",
    "- Its is the ratio of the variablity between groups means to the variability within group means.\n",
    "\n",
    "Formula:\n",
    "\n",
    "$F = \\frac{SSE_{between}}{SSE_{within}}$\n",
    "\n",
    "Where:\n",
    "\n",
    "- $SSE_{between}$ = Sum of squares of the differences between group means and overall mean.\n",
    "- $SSE_{within}$ = Sum of squares of the differences between individual observations and their group mean.\n"
   ]
  },
  {
   "cell_type": "markdown",
   "metadata": {},
   "source": [
    "## `Poisson and Related Distributions`"
   ]
  },
  {
   "cell_type": "markdown",
   "metadata": {},
   "source": [
    "### Poisson Distribution\n",
    "\n",
    "- The Poisson distribution is a discrete probability distribution that describes the number of events in a fixed interval of time or space.\n",
    "\n",
    "Formula:\n",
    "\n",
    "$P(X = k) = \\frac{e^{-\\lambda} \\times \\lambda^k}{k!}$\n",
    "\n",
    "Where:\n",
    "\n",
    "- $k$ = number of events\n",
    "- $\\lambda$ = average rate of events\n"
   ]
  },
  {
   "cell_type": "code",
   "execution_count": 10,
   "metadata": {},
   "outputs": [
    {
     "data": {
      "text/plain": [
       "array([6, 3, 2, 2, 3, 0, 2, 1, 4, 1, 3, 1, 0, 1, 2, 3, 1, 2, 2, 1, 4, 0,\n",
       "       1, 1, 1, 2, 2, 2, 0, 4, 3, 3, 3, 3, 3, 1, 3, 2, 2, 2, 1, 1, 3, 1,\n",
       "       1, 2, 0, 2, 1, 3, 3, 1, 1, 5, 2, 1, 1, 4, 2, 1, 2, 0, 4, 4, 3, 2,\n",
       "       3, 2, 1, 2, 1, 2, 0, 1, 0, 1, 4, 3, 2, 2, 0, 2, 0, 3, 0, 1, 1, 1,\n",
       "       2, 2, 6, 4, 3, 1, 3, 3, 3, 1, 0, 0])"
      ]
     },
     "execution_count": 10,
     "metadata": {},
     "output_type": "execute_result"
    }
   ],
   "source": [
    "stats.poisson.rvs(2, size=100)"
   ]
  },
  {
   "cell_type": "markdown",
   "metadata": {},
   "source": [
    "### Exponential Distribution\n",
    "\n",
    "- The exponential distribution is a continuous probability distribution that describes the time between events in a Poisson process.\n",
    "\n",
    "Formula:\n",
    "\n",
    "$P(X = x) = \\lambda \\times e^{-\\lambda x}$\n",
    "\n",
    "Where:\n",
    "\n",
    "- $x$ = time between events\n",
    "- $\\lambda$ = average rate of events\n",
    "\n"
   ]
  },
  {
   "cell_type": "code",
   "execution_count": 11,
   "metadata": {},
   "outputs": [
    {
     "data": {
      "text/plain": [
       "array([0.37925813, 0.72314053, 0.76597617, 1.20279656, 0.33205738,\n",
       "       1.19353936, 0.97561181, 0.29756682, 0.22327315, 0.24990069,\n",
       "       0.19968025, 0.32725022, 0.02926009, 0.08310847, 0.16781418,\n",
       "       0.27944471, 0.28901256, 0.18201733, 0.04513125, 1.37943879,\n",
       "       0.67092794, 0.26836829, 2.10045254, 0.10961605, 0.58560722,\n",
       "       0.02753224, 0.09322598, 0.13212395, 0.18797538, 0.12360647,\n",
       "       0.36359732, 0.55029655, 0.22149491, 0.04733365, 0.06217855,\n",
       "       0.61984215, 0.08566009, 0.05183339, 0.03854244, 0.26901987,\n",
       "       0.14752108, 0.08760391, 0.9782585 , 1.05551929, 0.50389719,\n",
       "       0.08704713, 0.02833777, 0.55763417, 0.07578084, 0.32347715,\n",
       "       0.19696648, 1.35054494, 0.22140305, 1.17359075, 0.50838454,\n",
       "       0.1533625 , 0.20173992, 0.54676261, 0.5888478 , 0.02584672,\n",
       "       0.00744257, 0.39842171, 0.04390362, 0.29669985, 0.2480477 ,\n",
       "       0.63700568, 0.7664952 , 0.09877835, 0.04285784, 0.32867346,\n",
       "       0.17112232, 1.04488082, 0.14007418, 1.85916154, 0.22374526,\n",
       "       0.18337499, 0.76025265, 0.10860738, 0.33951738, 0.5894064 ,\n",
       "       0.29688765, 1.12847521, 1.26198084, 0.06197635, 1.04856038,\n",
       "       0.55731852, 0.74826679, 0.49849738, 1.31432747, 0.046141  ,\n",
       "       0.35209261, 0.49563467, 0.39924018, 0.58868434, 0.10622303,\n",
       "       0.17966214, 1.1656299 , 0.17114426, 0.11740663, 0.59308516])"
      ]
     },
     "execution_count": 11,
     "metadata": {},
     "output_type": "execute_result"
    }
   ],
   "source": [
    "stats.expon.rvs(scale=1/2, size=100)"
   ]
  },
  {
   "cell_type": "markdown",
   "metadata": {},
   "source": [
    "### Estimating the Failure Rate\n",
    "\n",
    "- The failure rate is the number of failures that occur in a given time period."
   ]
  },
  {
   "cell_type": "markdown",
   "metadata": {},
   "source": [
    "### Weibull Distribution\n",
    "\n",
    "- The Weibull distribution is a continuous probability distribution that is used to model the life of products.\n"
   ]
  },
  {
   "cell_type": "code",
   "execution_count": 12,
   "metadata": {},
   "outputs": [
    {
     "data": {
      "text/plain": [
       "array([ 2736.874062  ,  1961.11226312,  6110.5927517 ,  1606.97590914,\n",
       "        2100.6306701 , 13970.01073472,  6315.75171748,  1051.73116558,\n",
       "        3262.5088588 ,   686.18575601,  2449.39406312,  4828.27929878,\n",
       "         892.30733816,  8083.84287594,  5708.07548507,  2608.86560542,\n",
       "        3844.73202614,  3871.03163031,  5940.50254441,  6322.31746852,\n",
       "        1667.76871948,  3011.62315674,  2088.55326696,  5134.37809927,\n",
       "        1772.58064993,  5501.5256637 ,  1150.97521631,  2915.80576198,\n",
       "        7825.0962581 ,  4390.42207876,  1836.74360382,  7622.05581762,\n",
       "         650.19191941,   311.99693697,  4658.6276131 ,  2391.25830532,\n",
       "        4706.11412741,  2213.18910024,  1257.60138598,  2720.18708784,\n",
       "        1930.07859299,  2319.73640622,  7243.70404421,   278.10874919,\n",
       "        3262.99084271,  8003.83657259,  5064.13355178,  3298.28454718,\n",
       "        2804.02980794,  4797.22204554,  5257.01111064,  1514.5680073 ,\n",
       "        7904.5750905 ,   894.76052475, 11286.29949247,  1620.34943827,\n",
       "        4567.20190567,  7259.32995353,  8549.75309225,  6345.53491618,\n",
       "        8077.65274446,  4097.0748846 ,  3265.64715535,  3142.09017819,\n",
       "        8167.41431   ,  1554.29193694,  2116.12360606,  4588.09429021,\n",
       "        4609.72785189,  5447.74964094,  3376.94735461,  9357.62208155,\n",
       "        7060.82279858,  1444.78389606,  9775.88578041,  1176.94170301,\n",
       "        3623.90781793,  1697.52538091,  4846.04190221,  2543.06323049,\n",
       "        1168.60609954,  4362.13130752,  2816.15131262,  3249.55145779,\n",
       "        3549.42088179,  4900.8602423 ,   733.84962505,  1159.37384336,\n",
       "        5026.92660963,  3237.55415952,  2663.06661263,  8567.15536644,\n",
       "        2698.43112829,  4263.00360375,  6038.14236201,  1973.87169051,\n",
       "        4957.10156962,  3358.93977237,  7637.11705811,   561.70963093])"
      ]
     },
     "execution_count": 12,
     "metadata": {},
     "output_type": "execute_result"
    }
   ],
   "source": [
    "stats.weibull_min.rvs(1.5, scale=5000, size=100)"
   ]
  },
  {
   "cell_type": "code",
   "execution_count": null,
   "metadata": {},
   "outputs": [],
   "source": []
  }
 ],
 "metadata": {
  "kernelspec": {
   "display_name": "base",
   "language": "python",
   "name": "python3"
  },
  "language_info": {
   "codemirror_mode": {
    "name": "ipython",
    "version": 3
   },
   "file_extension": ".py",
   "mimetype": "text/x-python",
   "name": "python",
   "nbconvert_exporter": "python",
   "pygments_lexer": "ipython3",
   "version": "3.9.13"
  }
 },
 "nbformat": 4,
 "nbformat_minor": 2
}
